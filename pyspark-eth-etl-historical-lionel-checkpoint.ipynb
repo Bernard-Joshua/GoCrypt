{
 "cells": [
  {
   "cell_type": "code",
   "execution_count": 1,
   "id": "ae5fe772",
   "metadata": {},
   "outputs": [
    {
     "data": {
      "text/plain": [
       "'E:\\\\anaconda\\\\lib\\\\site-packages\\\\pyspark'"
      ]
     },
     "execution_count": 1,
     "metadata": {},
     "output_type": "execute_result"
    }
   ],
   "source": [
    "import findspark\n",
    "findspark.init()\n",
    "findspark.find()"
   ]
  },
  {
   "cell_type": "code",
   "execution_count": 2,
   "id": "a5d1627e",
   "metadata": {},
   "outputs": [],
   "source": [
    "from pyspark.sql import SparkSession\n",
    "from pyspark.sql.functions import col, lit  # Some functions that later will be useful\n",
    "\n",
    "spark = SparkSession \\\n",
    "        .builder \\\n",
    "        .appName(\"PySparkSEPB\") \\\n",
    "        .getOrCreate()"
   ]
  },
  {
   "cell_type": "code",
   "execution_count": 3,
   "id": "5e99f272",
   "metadata": {},
   "outputs": [
    {
     "data": {
      "text/html": [
       "\n",
       "            <div>\n",
       "                <p><b>SparkSession - in-memory</b></p>\n",
       "                \n",
       "        <div>\n",
       "            <p><b>SparkContext</b></p>\n",
       "\n",
       "            <p><a href=\"http://DESKTOP-4PPPLBS:4041\">Spark UI</a></p>\n",
       "\n",
       "            <dl>\n",
       "              <dt>Version</dt>\n",
       "                <dd><code>v3.3.0</code></dd>\n",
       "              <dt>Master</dt>\n",
       "                <dd><code>local[*]</code></dd>\n",
       "              <dt>AppName</dt>\n",
       "                <dd><code>PySparkSEPB</code></dd>\n",
       "            </dl>\n",
       "        </div>\n",
       "        \n",
       "            </div>\n",
       "        "
      ],
      "text/plain": [
       "<pyspark.sql.session.SparkSession at 0x26b3bb7cca0>"
      ]
     },
     "execution_count": 3,
     "metadata": {},
     "output_type": "execute_result"
    }
   ],
   "source": [
    "spark"
   ]
  },
  {
   "cell_type": "code",
   "execution_count": 4,
   "id": "a1a71da1",
   "metadata": {},
   "outputs": [],
   "source": [
    "ethereum_df = spark.read.csv(\"C:\\\\Users\\\\user\\\\Desktop\\\\ETH_1H.csv\", header=True, inferSchema=True)"
   ]
  },
  {
   "cell_type": "code",
   "execution_count": 5,
   "id": "a296796d",
   "metadata": {},
   "outputs": [
    {
     "name": "stdout",
     "output_type": "stream",
     "text": [
      "+--------------+-------------------+------+------+------+------+------+-------------+\n",
      "|Unix Timestamp|               Date|Symbol|  Open|  High|   Low| Close|       Volume|\n",
      "+--------------+-------------------+------+------+------+------+------+-------------+\n",
      "| 1586995200000|2020-04-16 00:00:00|ETHUSD|152.94|152.94|150.39|150.39|   650.188125|\n",
      "| 1586991600000|2020-04-15 23:00:00|ETHUSD|155.81|155.81|151.39|152.94|4277.56729866|\n",
      "| 1586988000000|2020-04-15 22:00:00|ETHUSD|157.18| 157.3|155.32|155.81| 106.33727909|\n",
      "| 1586984400000|2020-04-15 21:00:00|ETHUSD|158.04|158.31|157.16|157.18|  55.24413059|\n",
      "| 1586980800000|2020-04-15 20:00:00|ETHUSD| 157.1| 158.1|156.87|158.04|   144.262622|\n",
      "| 1586977200000|2020-04-15 19:00:00|ETHUSD|157.78|157.84| 157.1| 157.1| 329.35620144|\n",
      "| 1586973600000|2020-04-15 18:00:00|ETHUSD|157.48| 158.2|157.48|157.78| 520.13746267|\n",
      "| 1586970000000|2020-04-15 17:00:00|ETHUSD|157.12|157.78| 156.9|157.48| 156.55222076|\n",
      "| 1586966400000|2020-04-15 16:00:00|ETHUSD|155.81|157.52|155.74|157.12|   430.083035|\n",
      "| 1586962800000|2020-04-15 15:00:00|ETHUSD|157.12|157.15|155.81|155.81| 303.83954102|\n",
      "| 1586959200000|2020-04-15 14:00:00|ETHUSD|156.57|158.09|156.57|157.12| 747.87021965|\n",
      "| 1586955600000|2020-04-15 13:00:00|ETHUSD|156.46|157.67| 155.5|156.57| 320.06017197|\n",
      "| 1586952000000|2020-04-15 12:00:00|ETHUSD|157.45|157.76|155.58|156.46|  1922.313877|\n",
      "| 1586948400000|2020-04-15 11:00:00|ETHUSD|157.69|158.26|157.09|157.45| 993.97028762|\n",
      "| 1586944800000|2020-04-15 10:00:00|ETHUSD|159.05|159.76|157.25|157.69| 866.47222245|\n",
      "| 1586941200000|2020-04-15 09:00:00|ETHUSD|158.77|159.41|157.88|159.05|   108.160041|\n",
      "| 1586937600000|2020-04-15 08:00:00|ETHUSD|159.84|160.02|158.44|158.77|  96.25541397|\n",
      "| 1586934000000|2020-04-15 07:00:00|ETHUSD|160.21|160.21|159.56|159.84|  57.71428142|\n",
      "| 1586930400000|2020-04-15 06:00:00|ETHUSD|160.91|161.52|160.07|160.21| 113.10188212|\n",
      "| 1586926800000|2020-04-15 05:00:00|ETHUSD|159.97|160.91|159.89|160.91|    72.618334|\n",
      "+--------------+-------------------+------+------+------+------+------+-------------+\n",
      "only showing top 20 rows\n",
      "\n"
     ]
    }
   ],
   "source": [
    "ethereum_df.show()"
   ]
  },
  {
   "cell_type": "code",
   "execution_count": 7,
   "id": "12dfc324",
   "metadata": {},
   "outputs": [
    {
     "data": {
      "text/plain": [
       "[('Unix Timestamp', 'bigint'),\n",
       " ('Date', 'timestamp'),\n",
       " ('Symbol', 'string'),\n",
       " ('Open', 'double'),\n",
       " ('High', 'double'),\n",
       " ('Low', 'double'),\n",
       " ('Close', 'double'),\n",
       " ('Volume', 'double')]"
      ]
     },
     "execution_count": 7,
     "metadata": {},
     "output_type": "execute_result"
    }
   ],
   "source": [
    "ethereum_df.dtypes"
   ]
  },
  {
   "cell_type": "code",
   "execution_count": 10,
   "id": "8312bcb4",
   "metadata": {},
   "outputs": [
    {
     "name": "stdout",
     "output_type": "stream",
     "text": [
      "root\n",
      " |-- Date: timestamp (nullable = true)\n",
      " |-- Symbol: string (nullable = true)\n",
      " |-- Open: double (nullable = true)\n",
      " |-- High: double (nullable = true)\n",
      " |-- Low: double (nullable = true)\n",
      " |-- Close: double (nullable = true)\n",
      " |-- Volume: double (nullable = true)\n",
      "\n"
     ]
    }
   ],
   "source": [
    "ethereum_df.drop(\"Unix Timestamp\").printSchema()"
   ]
  },
  {
   "cell_type": "code",
   "execution_count": 11,
   "id": "02194286",
   "metadata": {},
   "outputs": [],
   "source": [
    "ethereum_df=ethereum_df.drop(\"Unix Timestamp\")"
   ]
  },
  {
   "cell_type": "code",
   "execution_count": 12,
   "id": "83488563",
   "metadata": {},
   "outputs": [
    {
     "name": "stdout",
     "output_type": "stream",
     "text": [
      "+-------------------+------+------+------+------+------+-------------+\n",
      "|               Date|Symbol|  Open|  High|   Low| Close|       Volume|\n",
      "+-------------------+------+------+------+------+------+-------------+\n",
      "|2020-04-16 00:00:00|ETHUSD|152.94|152.94|150.39|150.39|   650.188125|\n",
      "|2020-04-15 23:00:00|ETHUSD|155.81|155.81|151.39|152.94|4277.56729866|\n",
      "|2020-04-15 22:00:00|ETHUSD|157.18| 157.3|155.32|155.81| 106.33727909|\n",
      "|2020-04-15 21:00:00|ETHUSD|158.04|158.31|157.16|157.18|  55.24413059|\n",
      "|2020-04-15 20:00:00|ETHUSD| 157.1| 158.1|156.87|158.04|   144.262622|\n",
      "|2020-04-15 19:00:00|ETHUSD|157.78|157.84| 157.1| 157.1| 329.35620144|\n",
      "|2020-04-15 18:00:00|ETHUSD|157.48| 158.2|157.48|157.78| 520.13746267|\n",
      "|2020-04-15 17:00:00|ETHUSD|157.12|157.78| 156.9|157.48| 156.55222076|\n",
      "|2020-04-15 16:00:00|ETHUSD|155.81|157.52|155.74|157.12|   430.083035|\n",
      "|2020-04-15 15:00:00|ETHUSD|157.12|157.15|155.81|155.81| 303.83954102|\n",
      "|2020-04-15 14:00:00|ETHUSD|156.57|158.09|156.57|157.12| 747.87021965|\n",
      "|2020-04-15 13:00:00|ETHUSD|156.46|157.67| 155.5|156.57| 320.06017197|\n",
      "|2020-04-15 12:00:00|ETHUSD|157.45|157.76|155.58|156.46|  1922.313877|\n",
      "|2020-04-15 11:00:00|ETHUSD|157.69|158.26|157.09|157.45| 993.97028762|\n",
      "|2020-04-15 10:00:00|ETHUSD|159.05|159.76|157.25|157.69| 866.47222245|\n",
      "|2020-04-15 09:00:00|ETHUSD|158.77|159.41|157.88|159.05|   108.160041|\n",
      "|2020-04-15 08:00:00|ETHUSD|159.84|160.02|158.44|158.77|  96.25541397|\n",
      "|2020-04-15 07:00:00|ETHUSD|160.21|160.21|159.56|159.84|  57.71428142|\n",
      "|2020-04-15 06:00:00|ETHUSD|160.91|161.52|160.07|160.21| 113.10188212|\n",
      "|2020-04-15 05:00:00|ETHUSD|159.97|160.91|159.89|160.91|    72.618334|\n",
      "+-------------------+------+------+------+------+------+-------------+\n",
      "only showing top 20 rows\n",
      "\n"
     ]
    }
   ],
   "source": [
    "ethereum_df.show()"
   ]
  },
  {
   "cell_type": "code",
   "execution_count": 13,
   "id": "e873feb5",
   "metadata": {},
   "outputs": [],
   "source": [
    "ethereum_df=ethereum_df.withColumn(\"Name\",lit(\"Ethereum\"))"
   ]
  },
  {
   "cell_type": "code",
   "execution_count": 14,
   "id": "e63e89ef",
   "metadata": {},
   "outputs": [
    {
     "name": "stdout",
     "output_type": "stream",
     "text": [
      "+-------------------+------+------+------+------+------+-------------+--------+\n",
      "|               Date|Symbol|  Open|  High|   Low| Close|       Volume|    Name|\n",
      "+-------------------+------+------+------+------+------+-------------+--------+\n",
      "|2020-04-16 00:00:00|ETHUSD|152.94|152.94|150.39|150.39|   650.188125|Ethereum|\n",
      "|2020-04-15 23:00:00|ETHUSD|155.81|155.81|151.39|152.94|4277.56729866|Ethereum|\n",
      "|2020-04-15 22:00:00|ETHUSD|157.18| 157.3|155.32|155.81| 106.33727909|Ethereum|\n",
      "|2020-04-15 21:00:00|ETHUSD|158.04|158.31|157.16|157.18|  55.24413059|Ethereum|\n",
      "|2020-04-15 20:00:00|ETHUSD| 157.1| 158.1|156.87|158.04|   144.262622|Ethereum|\n",
      "|2020-04-15 19:00:00|ETHUSD|157.78|157.84| 157.1| 157.1| 329.35620144|Ethereum|\n",
      "|2020-04-15 18:00:00|ETHUSD|157.48| 158.2|157.48|157.78| 520.13746267|Ethereum|\n",
      "|2020-04-15 17:00:00|ETHUSD|157.12|157.78| 156.9|157.48| 156.55222076|Ethereum|\n",
      "|2020-04-15 16:00:00|ETHUSD|155.81|157.52|155.74|157.12|   430.083035|Ethereum|\n",
      "|2020-04-15 15:00:00|ETHUSD|157.12|157.15|155.81|155.81| 303.83954102|Ethereum|\n",
      "|2020-04-15 14:00:00|ETHUSD|156.57|158.09|156.57|157.12| 747.87021965|Ethereum|\n",
      "|2020-04-15 13:00:00|ETHUSD|156.46|157.67| 155.5|156.57| 320.06017197|Ethereum|\n",
      "|2020-04-15 12:00:00|ETHUSD|157.45|157.76|155.58|156.46|  1922.313877|Ethereum|\n",
      "|2020-04-15 11:00:00|ETHUSD|157.69|158.26|157.09|157.45| 993.97028762|Ethereum|\n",
      "|2020-04-15 10:00:00|ETHUSD|159.05|159.76|157.25|157.69| 866.47222245|Ethereum|\n",
      "|2020-04-15 09:00:00|ETHUSD|158.77|159.41|157.88|159.05|   108.160041|Ethereum|\n",
      "|2020-04-15 08:00:00|ETHUSD|159.84|160.02|158.44|158.77|  96.25541397|Ethereum|\n",
      "|2020-04-15 07:00:00|ETHUSD|160.21|160.21|159.56|159.84|  57.71428142|Ethereum|\n",
      "|2020-04-15 06:00:00|ETHUSD|160.91|161.52|160.07|160.21| 113.10188212|Ethereum|\n",
      "|2020-04-15 05:00:00|ETHUSD|159.97|160.91|159.89|160.91|    72.618334|Ethereum|\n",
      "+-------------------+------+------+------+------+------+-------------+--------+\n",
      "only showing top 20 rows\n",
      "\n"
     ]
    }
   ],
   "source": [
    "ethereum_df.show()"
   ]
  },
  {
   "cell_type": "code",
   "execution_count": null,
   "id": "8992055f",
   "metadata": {},
   "outputs": [],
   "source": [
    "eth_df.write.format('csv').save('cleaned-eth.csv')"
   ]
  }
 ],
 "metadata": {
  "kernelspec": {
   "display_name": "Python 3 (ipykernel)",
   "language": "python",
   "name": "python3"
  },
  "language_info": {
   "codemirror_mode": {
    "name": "ipython",
    "version": 3
   },
   "file_extension": ".py",
   "mimetype": "text/x-python",
   "name": "python",
   "nbconvert_exporter": "python",
   "pygments_lexer": "ipython3",
   "version": "3.9.12"
  }
 },
 "nbformat": 4,
 "nbformat_minor": 5
}
