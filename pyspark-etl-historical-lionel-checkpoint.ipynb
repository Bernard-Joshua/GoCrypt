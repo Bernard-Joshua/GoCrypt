{
 "cells": [
  {
   "cell_type": "code",
   "execution_count": 133,
   "id": "786e6f5b",
   "metadata": {},
   "outputs": [
    {
     "data": {
      "text/plain": [
       "'E:\\\\anaconda\\\\lib\\\\site-packages\\\\pyspark'"
      ]
     },
     "execution_count": 133,
     "metadata": {},
     "output_type": "execute_result"
    }
   ],
   "source": [
    "import findspark\n",
    "findspark.init()\n",
    "findspark.find()"
   ]
  },
  {
   "cell_type": "code",
   "execution_count": 134,
   "id": "05ae5314",
   "metadata": {},
   "outputs": [],
   "source": [
    "from pyspark.sql import SparkSession\n",
    "from pyspark.sql.functions import col, lit  # Some functions that later will be useful\n",
    "\n",
    "spark = SparkSession \\\n",
    "        .builder \\\n",
    "        .appName(\"PySparkSEPB\") \\\n",
    "        .getOrCreate()"
   ]
  },
  {
   "cell_type": "code",
   "execution_count": 199,
   "id": "dead6403",
   "metadata": {},
   "outputs": [
    {
     "data": {
      "text/html": [
       "\n",
       "            <div>\n",
       "                <p><b>SparkSession - in-memory</b></p>\n",
       "                \n",
       "        <div>\n",
       "            <p><b>SparkContext</b></p>\n",
       "\n",
       "            <p><a href=\"http://DESKTOP-4PPPLBS:4040\">Spark UI</a></p>\n",
       "\n",
       "            <dl>\n",
       "              <dt>Version</dt>\n",
       "                <dd><code>v3.3.0</code></dd>\n",
       "              <dt>Master</dt>\n",
       "                <dd><code>local[*]</code></dd>\n",
       "              <dt>AppName</dt>\n",
       "                <dd><code>PySparkSEPB</code></dd>\n",
       "            </dl>\n",
       "        </div>\n",
       "        \n",
       "            </div>\n",
       "        "
      ],
      "text/plain": [
       "<pyspark.sql.session.SparkSession at 0x21c29746bb0>"
      ]
     },
     "execution_count": 199,
     "metadata": {},
     "output_type": "execute_result"
    }
   ],
   "source": [
    "spark"
   ]
  },
  {
   "cell_type": "code",
   "execution_count": 174,
   "id": "cbdbabaf",
   "metadata": {},
   "outputs": [],
   "source": [
    "bitcoin_df = spark.read.csv(\"C:\\\\Users\\\\user\\\\Desktop\\\\btc-usdt.csv\", header=True, inferSchema=True)"
   ]
  },
  {
   "cell_type": "code",
   "execution_count": 175,
   "id": "5f5537bb",
   "metadata": {},
   "outputs": [
    {
     "name": "stdout",
     "output_type": "stream",
     "text": [
      "+-------------------+-------+-------+-------+-------+-----------+--------------------+-------------------+----------------+--------------+----------------+------+\n",
      "|          Open Time|   Open|   High|    Low|  Close|     Volume|          Close Time| Quote Asset Volume|Number of Trades|TB Base Volume| TB Quote Volume|Ignore|\n",
      "+-------------------+-------+-------+-------+-------+-----------+--------------------+-------------------+----------------+--------------+----------------+------+\n",
      "|2019-07-30 00:00:00|9509.07| 9535.0|9503.07|9517.75| 381.293856|2019-07-30 00:29:...|   3631210.75457378|            3492|    216.528742| 2062189.2468964|     0|\n",
      "|2019-07-30 00:30:00|9517.03| 9539.0| 9507.0|9532.58| 258.514869|2019-07-30 00:59:...|   2462133.91507886|            3133|     141.88755|1351182.17444856|     0|\n",
      "|2019-07-30 01:00:00|9533.59| 9534.0| 9500.0|9500.25|  275.79727|2019-07-30 01:29:...|   2624321.66512378|            3583|    114.238457|1087401.60227953|     0|\n",
      "|2019-07-30 01:30:00|9500.25|9514.46|9460.71|9465.25|  485.21847|2019-07-30 01:59:...|   4604004.15691673|            5330|    225.681291|2141459.01759493|     0|\n",
      "|2019-07-30 02:00:00|9465.25|9488.94|9430.01|9460.42| 498.669626|2019-07-30 02:29:...|   4717268.77740051|            6197|     228.53591|2162163.12846462|     0|\n",
      "|2019-07-30 02:30:00|9461.73|9470.46| 9402.0|9425.55|1877.784054|2019-07-30 02:59:...|1.773400111086718E7|            9726|    344.451758|3250685.38153973|     0|\n",
      "|2019-07-30 03:00:00| 9425.6|9453.58| 9403.0|9431.45| 598.190032|2019-07-30 03:29:...|   5639563.43606398|            6210|    310.464708|2926949.45260021|     0|\n",
      "|2019-07-30 03:30:00|9431.49|9449.83| 9425.0|9441.29|  297.39072|2019-07-30 03:59:...|   2807668.58074722|            3113|    148.138342| 1398697.7734385|     0|\n",
      "|2019-07-30 04:00:00|9441.04| 9460.9| 9430.0|9446.96| 402.342068|2019-07-30 04:29:...|   3799767.36986013|            3830|     202.51185|1912494.82779721|     0|\n",
      "|2019-07-30 04:30:00|9446.96|9454.97| 9445.0|9445.13| 325.970139|2019-07-30 04:59:...|   3079652.58887066|            3979|    117.924981|1114287.39362903|     0|\n",
      "|2019-07-30 05:00:00|9445.55|9454.41| 9427.0| 9431.0|1215.186589|2019-07-30 05:29:...|1.147721718300905E7|            5317|    150.500925| 1421438.6854846|     0|\n",
      "|2019-07-30 05:30:00| 9431.0|9474.03|9427.06|9452.89|  486.20122|2019-07-30 05:59:...|   4594482.38856542|            6006|    213.279825|2015354.17055458|     0|\n",
      "|2019-07-30 06:00:00| 9451.4| 9492.7|9450.43|9486.09|  351.58852|2019-07-30 06:29:...|   3331458.04531864|            4858|    207.178221|1963049.60239235|     0|\n",
      "|2019-07-30 06:30:00|9486.67| 9530.0|9486.02|9504.77| 614.876086|2019-07-30 06:59:...|   5849339.36562615|            6123|     303.81886|2890137.11939791|     0|\n",
      "|2019-07-30 07:00:00|9503.02|9513.59|9488.71| 9491.1| 360.890993|2019-07-30 07:29:...|   3428599.65321837|            4265|    186.229831| 1769406.1284189|     0|\n",
      "|2019-07-30 07:30:00| 9491.1|9508.89|9480.22|9501.29| 296.477022|2019-07-30 07:59:...|   2815727.12061154|            4378|    139.919988|1328883.58315623|     0|\n",
      "|2019-07-30 08:00:00|9501.29|9521.94| 9495.0|9498.04| 235.070128|2019-07-30 08:29:...|   2234654.56146338|            3597|    105.192247|1000024.23849072|     0|\n",
      "|2019-07-30 08:30:00|9498.26| 9498.3|9460.02|9478.31| 355.872605|2019-07-30 08:59:...|   3376205.14143188|            4371|    142.350969|1350461.41643591|     0|\n",
      "|2019-07-30 09:00:00|9478.31| 9495.0|9468.62|9491.13|  188.06074|2019-07-30 09:29:...|   1783594.56006016|            2933|    115.783795|1098205.44402435|     0|\n",
      "|2019-07-30 09:30:00|9491.13|9500.26|9477.64|9487.43| 256.511633|2019-07-30 09:59:...|   2434390.30794692|            2985|    175.265942|1663440.28301352|     0|\n",
      "+-------------------+-------+-------+-------+-------+-----------+--------------------+-------------------+----------------+--------------+----------------+------+\n",
      "only showing top 20 rows\n",
      "\n"
     ]
    }
   ],
   "source": [
    "bitcoin_df.show()"
   ]
  },
  {
   "cell_type": "code",
   "execution_count": 176,
   "id": "7ec6b8de",
   "metadata": {},
   "outputs": [
    {
     "data": {
      "text/plain": [
       "[('Open Time', 'timestamp'),\n",
       " ('Open', 'double'),\n",
       " ('High', 'double'),\n",
       " ('Low', 'double'),\n",
       " ('Close', 'double'),\n",
       " ('Volume', 'double'),\n",
       " ('Close Time', 'timestamp'),\n",
       " ('Quote Asset Volume', 'double'),\n",
       " ('Number of Trades', 'int'),\n",
       " ('TB Base Volume', 'double'),\n",
       " ('TB Quote Volume', 'double'),\n",
       " ('Ignore', 'int')]"
      ]
     },
     "execution_count": 176,
     "metadata": {},
     "output_type": "execute_result"
    }
   ],
   "source": [
    "bitcoin_df.dtypes"
   ]
  },
  {
   "cell_type": "code",
   "execution_count": 177,
   "id": "11dfad8b",
   "metadata": {},
   "outputs": [
    {
     "name": "stdout",
     "output_type": "stream",
     "text": [
      "root\n",
      " |-- Open Time: timestamp (nullable = true)\n",
      " |-- Open: double (nullable = true)\n",
      " |-- High: double (nullable = true)\n",
      " |-- Low: double (nullable = true)\n",
      " |-- Close: double (nullable = true)\n",
      " |-- Volume: double (nullable = true)\n",
      " |-- Quote Asset Volume: double (nullable = true)\n",
      "\n"
     ]
    }
   ],
   "source": [
    "col = (\"Ignore\",\"Close Time\",\"Number of Trades\",\"TB Base Volume\",\"TB Quote Volume\")\n",
    "bitcoin_df.drop(*col).printSchema()"
   ]
  },
  {
   "cell_type": "code",
   "execution_count": 178,
   "id": "e7092586",
   "metadata": {},
   "outputs": [],
   "source": [
    "bitcoin_df=bitcoin_df.drop(*col)"
   ]
  },
  {
   "cell_type": "code",
   "execution_count": 179,
   "id": "73acb0e7",
   "metadata": {},
   "outputs": [
    {
     "name": "stdout",
     "output_type": "stream",
     "text": [
      "+-------------------+-------+-------+-------+-------+-----------+-------------------+\n",
      "|          Open Time|   Open|   High|    Low|  Close|     Volume| Quote Asset Volume|\n",
      "+-------------------+-------+-------+-------+-------+-----------+-------------------+\n",
      "|2019-07-30 00:00:00|9509.07| 9535.0|9503.07|9517.75| 381.293856|   3631210.75457378|\n",
      "|2019-07-30 00:30:00|9517.03| 9539.0| 9507.0|9532.58| 258.514869|   2462133.91507886|\n",
      "|2019-07-30 01:00:00|9533.59| 9534.0| 9500.0|9500.25|  275.79727|   2624321.66512378|\n",
      "|2019-07-30 01:30:00|9500.25|9514.46|9460.71|9465.25|  485.21847|   4604004.15691673|\n",
      "|2019-07-30 02:00:00|9465.25|9488.94|9430.01|9460.42| 498.669626|   4717268.77740051|\n",
      "|2019-07-30 02:30:00|9461.73|9470.46| 9402.0|9425.55|1877.784054|1.773400111086718E7|\n",
      "|2019-07-30 03:00:00| 9425.6|9453.58| 9403.0|9431.45| 598.190032|   5639563.43606398|\n",
      "|2019-07-30 03:30:00|9431.49|9449.83| 9425.0|9441.29|  297.39072|   2807668.58074722|\n",
      "|2019-07-30 04:00:00|9441.04| 9460.9| 9430.0|9446.96| 402.342068|   3799767.36986013|\n",
      "|2019-07-30 04:30:00|9446.96|9454.97| 9445.0|9445.13| 325.970139|   3079652.58887066|\n",
      "|2019-07-30 05:00:00|9445.55|9454.41| 9427.0| 9431.0|1215.186589|1.147721718300905E7|\n",
      "|2019-07-30 05:30:00| 9431.0|9474.03|9427.06|9452.89|  486.20122|   4594482.38856542|\n",
      "|2019-07-30 06:00:00| 9451.4| 9492.7|9450.43|9486.09|  351.58852|   3331458.04531864|\n",
      "|2019-07-30 06:30:00|9486.67| 9530.0|9486.02|9504.77| 614.876086|   5849339.36562615|\n",
      "|2019-07-30 07:00:00|9503.02|9513.59|9488.71| 9491.1| 360.890993|   3428599.65321837|\n",
      "|2019-07-30 07:30:00| 9491.1|9508.89|9480.22|9501.29| 296.477022|   2815727.12061154|\n",
      "|2019-07-30 08:00:00|9501.29|9521.94| 9495.0|9498.04| 235.070128|   2234654.56146338|\n",
      "|2019-07-30 08:30:00|9498.26| 9498.3|9460.02|9478.31| 355.872605|   3376205.14143188|\n",
      "|2019-07-30 09:00:00|9478.31| 9495.0|9468.62|9491.13|  188.06074|   1783594.56006016|\n",
      "|2019-07-30 09:30:00|9491.13|9500.26|9477.64|9487.43| 256.511633|   2434390.30794692|\n",
      "+-------------------+-------+-------+-------+-------+-----------+-------------------+\n",
      "only showing top 20 rows\n",
      "\n"
     ]
    }
   ],
   "source": [
    "bitcoin_df.show()"
   ]
  },
  {
   "cell_type": "code",
   "execution_count": 180,
   "id": "9267c631",
   "metadata": {},
   "outputs": [
    {
     "data": {
      "text/plain": [
       "53599"
      ]
     },
     "execution_count": 180,
     "metadata": {},
     "output_type": "execute_result"
    }
   ],
   "source": [
    "bitcoin_df.count()"
   ]
  },
  {
   "cell_type": "code",
   "execution_count": 181,
   "id": "c9f3a177",
   "metadata": {},
   "outputs": [
    {
     "name": "stdout",
     "output_type": "stream",
     "text": [
      "+-------------------+-------+-------+-------+-------+-----------+-------------------+\n",
      "|          Open Time|   Open|   High|    Low|  Close|     Volume| Quote Asset Volume|\n",
      "+-------------------+-------+-------+-------+-------+-----------+-------------------+\n",
      "|2019-07-30 00:00:00|9509.07| 9535.0|9503.07|9517.75| 381.293856|   3631210.75457378|\n",
      "|2019-07-30 00:30:00|9517.03| 9539.0| 9507.0|9532.58| 258.514869|   2462133.91507886|\n",
      "|2019-07-30 01:00:00|9533.59| 9534.0| 9500.0|9500.25|  275.79727|   2624321.66512378|\n",
      "|2019-07-30 01:30:00|9500.25|9514.46|9460.71|9465.25|  485.21847|   4604004.15691673|\n",
      "|2019-07-30 02:00:00|9465.25|9488.94|9430.01|9460.42| 498.669626|   4717268.77740051|\n",
      "|2019-07-30 02:30:00|9461.73|9470.46| 9402.0|9425.55|1877.784054|1.773400111086718E7|\n",
      "|2019-07-30 03:00:00| 9425.6|9453.58| 9403.0|9431.45| 598.190032|   5639563.43606398|\n",
      "|2019-07-30 03:30:00|9431.49|9449.83| 9425.0|9441.29|  297.39072|   2807668.58074722|\n",
      "|2019-07-30 04:00:00|9441.04| 9460.9| 9430.0|9446.96| 402.342068|   3799767.36986013|\n",
      "|2019-07-30 04:30:00|9446.96|9454.97| 9445.0|9445.13| 325.970139|   3079652.58887066|\n",
      "|2019-07-30 05:00:00|9445.55|9454.41| 9427.0| 9431.0|1215.186589|1.147721718300905E7|\n",
      "|2019-07-30 05:30:00| 9431.0|9474.03|9427.06|9452.89|  486.20122|   4594482.38856542|\n",
      "|2019-07-30 06:00:00| 9451.4| 9492.7|9450.43|9486.09|  351.58852|   3331458.04531864|\n",
      "|2019-07-30 06:30:00|9486.67| 9530.0|9486.02|9504.77| 614.876086|   5849339.36562615|\n",
      "|2019-07-30 07:00:00|9503.02|9513.59|9488.71| 9491.1| 360.890993|   3428599.65321837|\n",
      "|2019-07-30 07:30:00| 9491.1|9508.89|9480.22|9501.29| 296.477022|   2815727.12061154|\n",
      "|2019-07-30 08:00:00|9501.29|9521.94| 9495.0|9498.04| 235.070128|   2234654.56146338|\n",
      "|2019-07-30 08:30:00|9498.26| 9498.3|9460.02|9478.31| 355.872605|   3376205.14143188|\n",
      "|2019-07-30 09:00:00|9478.31| 9495.0|9468.62|9491.13|  188.06074|   1783594.56006016|\n",
      "|2019-07-30 09:30:00|9491.13|9500.26|9477.64|9487.43| 256.511633|   2434390.30794692|\n",
      "+-------------------+-------+-------+-------+-------+-----------+-------------------+\n",
      "only showing top 20 rows\n",
      "\n"
     ]
    }
   ],
   "source": [
    "bitcoin_df.show()\n"
   ]
  },
  {
   "cell_type": "code",
   "execution_count": 185,
   "id": "e04997c4",
   "metadata": {},
   "outputs": [],
   "source": [
    "bitcoin_df=bitcoin_df.withColumnRenamed('DateTime','TimeStamp')"
   ]
  },
  {
   "cell_type": "code",
   "execution_count": 186,
   "id": "05cc68cc",
   "metadata": {},
   "outputs": [
    {
     "name": "stdout",
     "output_type": "stream",
     "text": [
      "+-------------------+-------+-------+-------+-------+-----------+-------------------+\n",
      "|          Open Time|   Open|   High|    Low|  Close|     Volume| Quote Asset Volume|\n",
      "+-------------------+-------+-------+-------+-------+-----------+-------------------+\n",
      "|2019-07-30 00:00:00|9509.07| 9535.0|9503.07|9517.75| 381.293856|   3631210.75457378|\n",
      "|2019-07-30 00:30:00|9517.03| 9539.0| 9507.0|9532.58| 258.514869|   2462133.91507886|\n",
      "|2019-07-30 01:00:00|9533.59| 9534.0| 9500.0|9500.25|  275.79727|   2624321.66512378|\n",
      "|2019-07-30 01:30:00|9500.25|9514.46|9460.71|9465.25|  485.21847|   4604004.15691673|\n",
      "|2019-07-30 02:00:00|9465.25|9488.94|9430.01|9460.42| 498.669626|   4717268.77740051|\n",
      "|2019-07-30 02:30:00|9461.73|9470.46| 9402.0|9425.55|1877.784054|1.773400111086718E7|\n",
      "|2019-07-30 03:00:00| 9425.6|9453.58| 9403.0|9431.45| 598.190032|   5639563.43606398|\n",
      "|2019-07-30 03:30:00|9431.49|9449.83| 9425.0|9441.29|  297.39072|   2807668.58074722|\n",
      "|2019-07-30 04:00:00|9441.04| 9460.9| 9430.0|9446.96| 402.342068|   3799767.36986013|\n",
      "|2019-07-30 04:30:00|9446.96|9454.97| 9445.0|9445.13| 325.970139|   3079652.58887066|\n",
      "|2019-07-30 05:00:00|9445.55|9454.41| 9427.0| 9431.0|1215.186589|1.147721718300905E7|\n",
      "|2019-07-30 05:30:00| 9431.0|9474.03|9427.06|9452.89|  486.20122|   4594482.38856542|\n",
      "|2019-07-30 06:00:00| 9451.4| 9492.7|9450.43|9486.09|  351.58852|   3331458.04531864|\n",
      "|2019-07-30 06:30:00|9486.67| 9530.0|9486.02|9504.77| 614.876086|   5849339.36562615|\n",
      "|2019-07-30 07:00:00|9503.02|9513.59|9488.71| 9491.1| 360.890993|   3428599.65321837|\n",
      "|2019-07-30 07:30:00| 9491.1|9508.89|9480.22|9501.29| 296.477022|   2815727.12061154|\n",
      "|2019-07-30 08:00:00|9501.29|9521.94| 9495.0|9498.04| 235.070128|   2234654.56146338|\n",
      "|2019-07-30 08:30:00|9498.26| 9498.3|9460.02|9478.31| 355.872605|   3376205.14143188|\n",
      "|2019-07-30 09:00:00|9478.31| 9495.0|9468.62|9491.13|  188.06074|   1783594.56006016|\n",
      "|2019-07-30 09:30:00|9491.13|9500.26|9477.64|9487.43| 256.511633|   2434390.30794692|\n",
      "+-------------------+-------+-------+-------+-------+-----------+-------------------+\n",
      "only showing top 20 rows\n",
      "\n"
     ]
    }
   ],
   "source": [
    "bitcoin_df.show()"
   ]
  },
  {
   "cell_type": "code",
   "execution_count": 187,
   "id": "4a3cb269",
   "metadata": {},
   "outputs": [],
   "source": [
    "bitcoin_df=bitcoin_df.withColumn(\"Symbol\",lit(\"BTC\"))"
   ]
  },
  {
   "cell_type": "code",
   "execution_count": 188,
   "id": "01b8423d",
   "metadata": {},
   "outputs": [],
   "source": [
    "bitcoin_df=bitcoin_df.withColumn(\"Name\",lit(\"Bitcoin\"))"
   ]
  },
  {
   "cell_type": "code",
   "execution_count": 202,
   "id": "3a3720e8",
   "metadata": {},
   "outputs": [
    {
     "name": "stdout",
     "output_type": "stream",
     "text": [
      "+-------------------+-------+-------+-------+-------+-----------+-------------------+------+-------+\n",
      "|          TimeStamp|   Open|   High|    Low|  Close|     Volume| Quote Asset Volume|Symbol|   Name|\n",
      "+-------------------+-------+-------+-------+-------+-----------+-------------------+------+-------+\n",
      "|2019-07-30 00:00:00|9509.07| 9535.0|9503.07|9517.75| 381.293856|   3631210.75457378|   BTC|Bitcoin|\n",
      "|2019-07-30 00:30:00|9517.03| 9539.0| 9507.0|9532.58| 258.514869|   2462133.91507886|   BTC|Bitcoin|\n",
      "|2019-07-30 01:00:00|9533.59| 9534.0| 9500.0|9500.25|  275.79727|   2624321.66512378|   BTC|Bitcoin|\n",
      "|2019-07-30 01:30:00|9500.25|9514.46|9460.71|9465.25|  485.21847|   4604004.15691673|   BTC|Bitcoin|\n",
      "|2019-07-30 02:00:00|9465.25|9488.94|9430.01|9460.42| 498.669626|   4717268.77740051|   BTC|Bitcoin|\n",
      "|2019-07-30 02:30:00|9461.73|9470.46| 9402.0|9425.55|1877.784054|1.773400111086718E7|   BTC|Bitcoin|\n",
      "|2019-07-30 03:00:00| 9425.6|9453.58| 9403.0|9431.45| 598.190032|   5639563.43606398|   BTC|Bitcoin|\n",
      "|2019-07-30 03:30:00|9431.49|9449.83| 9425.0|9441.29|  297.39072|   2807668.58074722|   BTC|Bitcoin|\n",
      "|2019-07-30 04:00:00|9441.04| 9460.9| 9430.0|9446.96| 402.342068|   3799767.36986013|   BTC|Bitcoin|\n",
      "|2019-07-30 04:30:00|9446.96|9454.97| 9445.0|9445.13| 325.970139|   3079652.58887066|   BTC|Bitcoin|\n",
      "|2019-07-30 05:00:00|9445.55|9454.41| 9427.0| 9431.0|1215.186589|1.147721718300905E7|   BTC|Bitcoin|\n",
      "|2019-07-30 05:30:00| 9431.0|9474.03|9427.06|9452.89|  486.20122|   4594482.38856542|   BTC|Bitcoin|\n",
      "|2019-07-30 06:00:00| 9451.4| 9492.7|9450.43|9486.09|  351.58852|   3331458.04531864|   BTC|Bitcoin|\n",
      "|2019-07-30 06:30:00|9486.67| 9530.0|9486.02|9504.77| 614.876086|   5849339.36562615|   BTC|Bitcoin|\n",
      "|2019-07-30 07:00:00|9503.02|9513.59|9488.71| 9491.1| 360.890993|   3428599.65321837|   BTC|Bitcoin|\n",
      "|2019-07-30 07:30:00| 9491.1|9508.89|9480.22|9501.29| 296.477022|   2815727.12061154|   BTC|Bitcoin|\n",
      "|2019-07-30 08:00:00|9501.29|9521.94| 9495.0|9498.04| 235.070128|   2234654.56146338|   BTC|Bitcoin|\n",
      "|2019-07-30 08:30:00|9498.26| 9498.3|9460.02|9478.31| 355.872605|   3376205.14143188|   BTC|Bitcoin|\n",
      "|2019-07-30 09:00:00|9478.31| 9495.0|9468.62|9491.13|  188.06074|   1783594.56006016|   BTC|Bitcoin|\n",
      "|2019-07-30 09:30:00|9491.13|9500.26|9477.64|9487.43| 256.511633|   2434390.30794692|   BTC|Bitcoin|\n",
      "+-------------------+-------+-------+-------+-------+-----------+-------------------+------+-------+\n",
      "only showing top 20 rows\n",
      "\n"
     ]
    }
   ],
   "source": [
    "bitcoin_df=bitcoin_df.withColumnRenamed(\"Open Time\",\"TimeStamp\")\n",
    "bitcoin_df.show()"
   ]
  },
  {
   "cell_type": "code",
   "execution_count": 201,
   "id": "e8a01939",
   "metadata": {},
   "outputs": [
    {
     "ename": "Py4JJavaError",
     "evalue": "An error occurred while calling o423.save.\n: java.lang.RuntimeException: java.io.FileNotFoundException: java.io.FileNotFoundException: HADOOP_HOME and hadoop.home.dir are unset. -see https://wiki.apache.org/hadoop/WindowsProblems\r\n\tat org.apache.hadoop.util.Shell.getWinUtilsPath(Shell.java:735)\r\n\tat org.apache.hadoop.util.Shell.getSetPermissionCommand(Shell.java:270)\r\n\tat org.apache.hadoop.util.Shell.getSetPermissionCommand(Shell.java:286)\r\n\tat org.apache.hadoop.fs.RawLocalFileSystem.setPermission(RawLocalFileSystem.java:978)\r\n\tat org.apache.hadoop.fs.RawLocalFileSystem.mkOneDirWithMode(RawLocalFileSystem.java:660)\r\n\tat org.apache.hadoop.fs.RawLocalFileSystem.mkdirsWithOptionalPermission(RawLocalFileSystem.java:700)\r\n\tat org.apache.hadoop.fs.RawLocalFileSystem.mkdirs(RawLocalFileSystem.java:672)\r\n\tat org.apache.hadoop.fs.RawLocalFileSystem.mkdirsWithOptionalPermission(RawLocalFileSystem.java:699)\r\n\tat org.apache.hadoop.fs.RawLocalFileSystem.mkdirs(RawLocalFileSystem.java:672)\r\n\tat org.apache.hadoop.fs.RawLocalFileSystem.mkdirsWithOptionalPermission(RawLocalFileSystem.java:699)\r\n\tat org.apache.hadoop.fs.RawLocalFileSystem.mkdirs(RawLocalFileSystem.java:672)\r\n\tat org.apache.hadoop.fs.ChecksumFileSystem.mkdirs(ChecksumFileSystem.java:788)\r\n\tat org.apache.hadoop.mapreduce.lib.output.FileOutputCommitter.setupJob(FileOutputCommitter.java:356)\r\n\tat org.apache.spark.internal.io.HadoopMapReduceCommitProtocol.setupJob(HadoopMapReduceCommitProtocol.scala:188)\r\n\tat org.apache.spark.sql.execution.datasources.FileFormatWriter$.write(FileFormatWriter.scala:209)\r\n\tat org.apache.spark.sql.execution.datasources.InsertIntoHadoopFsRelationCommand.run(InsertIntoHadoopFsRelationCommand.scala:186)\r\n\tat org.apache.spark.sql.execution.command.DataWritingCommandExec.sideEffectResult$lzycompute(commands.scala:113)\r\n\tat org.apache.spark.sql.execution.command.DataWritingCommandExec.sideEffectResult(commands.scala:111)\r\n\tat org.apache.spark.sql.execution.command.DataWritingCommandExec.executeCollect(commands.scala:125)\r\n\tat org.apache.spark.sql.execution.QueryExecution$$anonfun$eagerlyExecuteCommands$1.$anonfun$applyOrElse$1(QueryExecution.scala:98)\r\n\tat org.apache.spark.sql.execution.SQLExecution$.$anonfun$withNewExecutionId$6(SQLExecution.scala:109)\r\n\tat org.apache.spark.sql.execution.SQLExecution$.withSQLConfPropagated(SQLExecution.scala:169)\r\n\tat org.apache.spark.sql.execution.SQLExecution$.$anonfun$withNewExecutionId$1(SQLExecution.scala:95)\r\n\tat org.apache.spark.sql.SparkSession.withActive(SparkSession.scala:779)\r\n\tat org.apache.spark.sql.execution.SQLExecution$.withNewExecutionId(SQLExecution.scala:64)\r\n\tat org.apache.spark.sql.execution.QueryExecution$$anonfun$eagerlyExecuteCommands$1.applyOrElse(QueryExecution.scala:98)\r\n\tat org.apache.spark.sql.execution.QueryExecution$$anonfun$eagerlyExecuteCommands$1.applyOrElse(QueryExecution.scala:94)\r\n\tat org.apache.spark.sql.catalyst.trees.TreeNode.$anonfun$transformDownWithPruning$1(TreeNode.scala:584)\r\n\tat org.apache.spark.sql.catalyst.trees.CurrentOrigin$.withOrigin(TreeNode.scala:176)\r\n\tat org.apache.spark.sql.catalyst.trees.TreeNode.transformDownWithPruning(TreeNode.scala:584)\r\n\tat org.apache.spark.sql.catalyst.plans.logical.LogicalPlan.org$apache$spark$sql$catalyst$plans$logical$AnalysisHelper$$super$transformDownWithPruning(LogicalPlan.scala:30)\r\n\tat org.apache.spark.sql.catalyst.plans.logical.AnalysisHelper.transformDownWithPruning(AnalysisHelper.scala:267)\r\n\tat org.apache.spark.sql.catalyst.plans.logical.AnalysisHelper.transformDownWithPruning$(AnalysisHelper.scala:263)\r\n\tat org.apache.spark.sql.catalyst.plans.logical.LogicalPlan.transformDownWithPruning(LogicalPlan.scala:30)\r\n\tat org.apache.spark.sql.catalyst.plans.logical.LogicalPlan.transformDownWithPruning(LogicalPlan.scala:30)\r\n\tat org.apache.spark.sql.catalyst.trees.TreeNode.transformDown(TreeNode.scala:560)\r\n\tat org.apache.spark.sql.execution.QueryExecution.eagerlyExecuteCommands(QueryExecution.scala:94)\r\n\tat org.apache.spark.sql.execution.QueryExecution.commandExecuted$lzycompute(QueryExecution.scala:81)\r\n\tat org.apache.spark.sql.execution.QueryExecution.commandExecuted(QueryExecution.scala:79)\r\n\tat org.apache.spark.sql.execution.QueryExecution.assertCommandExecuted(QueryExecution.scala:116)\r\n\tat org.apache.spark.sql.DataFrameWriter.runCommand(DataFrameWriter.scala:860)\r\n\tat org.apache.spark.sql.DataFrameWriter.saveToV1Source(DataFrameWriter.scala:390)\r\n\tat org.apache.spark.sql.DataFrameWriter.saveInternal(DataFrameWriter.scala:363)\r\n\tat org.apache.spark.sql.DataFrameWriter.save(DataFrameWriter.scala:239)\r\n\tat java.base/jdk.internal.reflect.NativeMethodAccessorImpl.invoke0(Native Method)\r\n\tat java.base/jdk.internal.reflect.NativeMethodAccessorImpl.invoke(NativeMethodAccessorImpl.java:62)\r\n\tat java.base/jdk.internal.reflect.DelegatingMethodAccessorImpl.invoke(DelegatingMethodAccessorImpl.java:43)\r\n\tat java.base/java.lang.reflect.Method.invoke(Method.java:566)\r\n\tat py4j.reflection.MethodInvoker.invoke(MethodInvoker.java:244)\r\n\tat py4j.reflection.ReflectionEngine.invoke(ReflectionEngine.java:357)\r\n\tat py4j.Gateway.invoke(Gateway.java:282)\r\n\tat py4j.commands.AbstractCommand.invokeMethod(AbstractCommand.java:132)\r\n\tat py4j.commands.CallCommand.execute(CallCommand.java:79)\r\n\tat py4j.ClientServerConnection.waitForCommands(ClientServerConnection.java:182)\r\n\tat py4j.ClientServerConnection.run(ClientServerConnection.java:106)\r\n\tat java.base/java.lang.Thread.run(Thread.java:829)\r\nCaused by: java.io.FileNotFoundException: java.io.FileNotFoundException: HADOOP_HOME and hadoop.home.dir are unset. -see https://wiki.apache.org/hadoop/WindowsProblems\r\n\tat org.apache.hadoop.util.Shell.fileNotFoundException(Shell.java:547)\r\n\tat org.apache.hadoop.util.Shell.getHadoopHomeDir(Shell.java:568)\r\n\tat org.apache.hadoop.util.Shell.getQualifiedBin(Shell.java:591)\r\n\tat org.apache.hadoop.util.Shell.<clinit>(Shell.java:688)\r\n\tat org.apache.hadoop.util.StringUtils.<clinit>(StringUtils.java:79)\r\n\tat org.apache.hadoop.conf.Configuration.getTimeDurationHelper(Configuration.java:1907)\r\n\tat org.apache.hadoop.conf.Configuration.getTimeDuration(Configuration.java:1867)\r\n\tat org.apache.hadoop.conf.Configuration.getTimeDuration(Configuration.java:1840)\r\n\tat org.apache.hadoop.util.ShutdownHookManager.getShutdownTimeout(ShutdownHookManager.java:183)\r\n\tat org.apache.hadoop.util.ShutdownHookManager$HookEntry.<init>(ShutdownHookManager.java:207)\r\n\tat org.apache.hadoop.util.ShutdownHookManager.addShutdownHook(ShutdownHookManager.java:304)\r\n\tat org.apache.spark.util.SparkShutdownHookManager.install(ShutdownHookManager.scala:181)\r\n\tat org.apache.spark.util.ShutdownHookManager$.shutdownHooks$lzycompute(ShutdownHookManager.scala:50)\r\n\tat org.apache.spark.util.ShutdownHookManager$.shutdownHooks(ShutdownHookManager.scala:48)\r\n\tat org.apache.spark.util.ShutdownHookManager$.addShutdownHook(ShutdownHookManager.scala:153)\r\n\tat org.apache.spark.util.ShutdownHookManager$.<init>(ShutdownHookManager.scala:58)\r\n\tat org.apache.spark.util.ShutdownHookManager$.<clinit>(ShutdownHookManager.scala)\r\n\tat org.apache.spark.util.Utils$.createTempDir(Utils.scala:343)\r\n\tat org.apache.spark.deploy.SparkSubmit.prepareSubmitEnvironment(SparkSubmit.scala:344)\r\n\tat org.apache.spark.deploy.SparkSubmit.org$apache$spark$deploy$SparkSubmit$$runMain(SparkSubmit.scala:901)\r\n\tat org.apache.spark.deploy.SparkSubmit.doRunMain$1(SparkSubmit.scala:180)\r\n\tat org.apache.spark.deploy.SparkSubmit.submit(SparkSubmit.scala:203)\r\n\tat org.apache.spark.deploy.SparkSubmit.doSubmit(SparkSubmit.scala:90)\r\n\tat org.apache.spark.deploy.SparkSubmit$$anon$2.doSubmit(SparkSubmit.scala:1046)\r\n\tat org.apache.spark.deploy.SparkSubmit$.main(SparkSubmit.scala:1055)\r\n\tat org.apache.spark.deploy.SparkSubmit.main(SparkSubmit.scala)\r\nCaused by: java.io.FileNotFoundException: HADOOP_HOME and hadoop.home.dir are unset.\r\n\tat org.apache.hadoop.util.Shell.checkHadoopHomeInner(Shell.java:467)\r\n\tat org.apache.hadoop.util.Shell.checkHadoopHome(Shell.java:438)\r\n\tat org.apache.hadoop.util.Shell.<clinit>(Shell.java:515)\r\n\t... 22 more\r\n",
     "output_type": "error",
     "traceback": [
      "\u001b[1;31m---------------------------------------------------------------------------\u001b[0m",
      "\u001b[1;31mPy4JJavaError\u001b[0m                             Traceback (most recent call last)",
      "Input \u001b[1;32mIn [201]\u001b[0m, in \u001b[0;36m<cell line: 1>\u001b[1;34m()\u001b[0m\n\u001b[1;32m----> 1\u001b[0m \u001b[43mbitcoin_df\u001b[49m\u001b[38;5;241;43m.\u001b[39;49m\u001b[43mwrite\u001b[49m\u001b[38;5;241;43m.\u001b[39;49m\u001b[43mformat\u001b[49m\u001b[43m(\u001b[49m\u001b[38;5;124;43m'\u001b[39;49m\u001b[38;5;124;43mjson\u001b[39;49m\u001b[38;5;124;43m'\u001b[39;49m\u001b[43m)\u001b[49m\u001b[38;5;241;43m.\u001b[39;49m\u001b[43msave\u001b[49m\u001b[43m(\u001b[49m\u001b[38;5;124;43m'\u001b[39;49m\u001b[38;5;124;43mcleaned-btc.json\u001b[39;49m\u001b[38;5;124;43m'\u001b[39;49m\u001b[43m)\u001b[49m\n",
      "File \u001b[1;32mE:\\anaconda\\lib\\site-packages\\pyspark\\sql\\readwriter.py:968\u001b[0m, in \u001b[0;36mDataFrameWriter.save\u001b[1;34m(self, path, format, mode, partitionBy, **options)\u001b[0m\n\u001b[0;32m    966\u001b[0m     \u001b[38;5;28mself\u001b[39m\u001b[38;5;241m.\u001b[39m_jwrite\u001b[38;5;241m.\u001b[39msave()\n\u001b[0;32m    967\u001b[0m \u001b[38;5;28;01melse\u001b[39;00m:\n\u001b[1;32m--> 968\u001b[0m     \u001b[38;5;28;43mself\u001b[39;49m\u001b[38;5;241;43m.\u001b[39;49m\u001b[43m_jwrite\u001b[49m\u001b[38;5;241;43m.\u001b[39;49m\u001b[43msave\u001b[49m\u001b[43m(\u001b[49m\u001b[43mpath\u001b[49m\u001b[43m)\u001b[49m\n",
      "File \u001b[1;32mE:\\anaconda\\lib\\site-packages\\py4j\\java_gateway.py:1321\u001b[0m, in \u001b[0;36mJavaMember.__call__\u001b[1;34m(self, *args)\u001b[0m\n\u001b[0;32m   1315\u001b[0m command \u001b[38;5;241m=\u001b[39m proto\u001b[38;5;241m.\u001b[39mCALL_COMMAND_NAME \u001b[38;5;241m+\u001b[39m\\\n\u001b[0;32m   1316\u001b[0m     \u001b[38;5;28mself\u001b[39m\u001b[38;5;241m.\u001b[39mcommand_header \u001b[38;5;241m+\u001b[39m\\\n\u001b[0;32m   1317\u001b[0m     args_command \u001b[38;5;241m+\u001b[39m\\\n\u001b[0;32m   1318\u001b[0m     proto\u001b[38;5;241m.\u001b[39mEND_COMMAND_PART\n\u001b[0;32m   1320\u001b[0m answer \u001b[38;5;241m=\u001b[39m \u001b[38;5;28mself\u001b[39m\u001b[38;5;241m.\u001b[39mgateway_client\u001b[38;5;241m.\u001b[39msend_command(command)\n\u001b[1;32m-> 1321\u001b[0m return_value \u001b[38;5;241m=\u001b[39m \u001b[43mget_return_value\u001b[49m\u001b[43m(\u001b[49m\n\u001b[0;32m   1322\u001b[0m \u001b[43m    \u001b[49m\u001b[43manswer\u001b[49m\u001b[43m,\u001b[49m\u001b[43m \u001b[49m\u001b[38;5;28;43mself\u001b[39;49m\u001b[38;5;241;43m.\u001b[39;49m\u001b[43mgateway_client\u001b[49m\u001b[43m,\u001b[49m\u001b[43m \u001b[49m\u001b[38;5;28;43mself\u001b[39;49m\u001b[38;5;241;43m.\u001b[39;49m\u001b[43mtarget_id\u001b[49m\u001b[43m,\u001b[49m\u001b[43m \u001b[49m\u001b[38;5;28;43mself\u001b[39;49m\u001b[38;5;241;43m.\u001b[39;49m\u001b[43mname\u001b[49m\u001b[43m)\u001b[49m\n\u001b[0;32m   1324\u001b[0m \u001b[38;5;28;01mfor\u001b[39;00m temp_arg \u001b[38;5;129;01min\u001b[39;00m temp_args:\n\u001b[0;32m   1325\u001b[0m     temp_arg\u001b[38;5;241m.\u001b[39m_detach()\n",
      "File \u001b[1;32mE:\\anaconda\\lib\\site-packages\\pyspark\\sql\\utils.py:190\u001b[0m, in \u001b[0;36mcapture_sql_exception.<locals>.deco\u001b[1;34m(*a, **kw)\u001b[0m\n\u001b[0;32m    188\u001b[0m \u001b[38;5;28;01mdef\u001b[39;00m \u001b[38;5;21mdeco\u001b[39m(\u001b[38;5;241m*\u001b[39ma: Any, \u001b[38;5;241m*\u001b[39m\u001b[38;5;241m*\u001b[39mkw: Any) \u001b[38;5;241m-\u001b[39m\u001b[38;5;241m>\u001b[39m Any:\n\u001b[0;32m    189\u001b[0m     \u001b[38;5;28;01mtry\u001b[39;00m:\n\u001b[1;32m--> 190\u001b[0m         \u001b[38;5;28;01mreturn\u001b[39;00m f(\u001b[38;5;241m*\u001b[39ma, \u001b[38;5;241m*\u001b[39m\u001b[38;5;241m*\u001b[39mkw)\n\u001b[0;32m    191\u001b[0m     \u001b[38;5;28;01mexcept\u001b[39;00m Py4JJavaError \u001b[38;5;28;01mas\u001b[39;00m e:\n\u001b[0;32m    192\u001b[0m         converted \u001b[38;5;241m=\u001b[39m convert_exception(e\u001b[38;5;241m.\u001b[39mjava_exception)\n",
      "File \u001b[1;32mE:\\anaconda\\lib\\site-packages\\py4j\\protocol.py:326\u001b[0m, in \u001b[0;36mget_return_value\u001b[1;34m(answer, gateway_client, target_id, name)\u001b[0m\n\u001b[0;32m    324\u001b[0m value \u001b[38;5;241m=\u001b[39m OUTPUT_CONVERTER[\u001b[38;5;28mtype\u001b[39m](answer[\u001b[38;5;241m2\u001b[39m:], gateway_client)\n\u001b[0;32m    325\u001b[0m \u001b[38;5;28;01mif\u001b[39;00m answer[\u001b[38;5;241m1\u001b[39m] \u001b[38;5;241m==\u001b[39m REFERENCE_TYPE:\n\u001b[1;32m--> 326\u001b[0m     \u001b[38;5;28;01mraise\u001b[39;00m Py4JJavaError(\n\u001b[0;32m    327\u001b[0m         \u001b[38;5;124m\"\u001b[39m\u001b[38;5;124mAn error occurred while calling \u001b[39m\u001b[38;5;132;01m{0}\u001b[39;00m\u001b[38;5;132;01m{1}\u001b[39;00m\u001b[38;5;132;01m{2}\u001b[39;00m\u001b[38;5;124m.\u001b[39m\u001b[38;5;130;01m\\n\u001b[39;00m\u001b[38;5;124m\"\u001b[39m\u001b[38;5;241m.\u001b[39m\n\u001b[0;32m    328\u001b[0m         \u001b[38;5;28mformat\u001b[39m(target_id, \u001b[38;5;124m\"\u001b[39m\u001b[38;5;124m.\u001b[39m\u001b[38;5;124m\"\u001b[39m, name), value)\n\u001b[0;32m    329\u001b[0m \u001b[38;5;28;01melse\u001b[39;00m:\n\u001b[0;32m    330\u001b[0m     \u001b[38;5;28;01mraise\u001b[39;00m Py4JError(\n\u001b[0;32m    331\u001b[0m         \u001b[38;5;124m\"\u001b[39m\u001b[38;5;124mAn error occurred while calling \u001b[39m\u001b[38;5;132;01m{0}\u001b[39;00m\u001b[38;5;132;01m{1}\u001b[39;00m\u001b[38;5;132;01m{2}\u001b[39;00m\u001b[38;5;124m. Trace:\u001b[39m\u001b[38;5;130;01m\\n\u001b[39;00m\u001b[38;5;132;01m{3}\u001b[39;00m\u001b[38;5;130;01m\\n\u001b[39;00m\u001b[38;5;124m\"\u001b[39m\u001b[38;5;241m.\u001b[39m\n\u001b[0;32m    332\u001b[0m         \u001b[38;5;28mformat\u001b[39m(target_id, \u001b[38;5;124m\"\u001b[39m\u001b[38;5;124m.\u001b[39m\u001b[38;5;124m\"\u001b[39m, name, value))\n",
      "\u001b[1;31mPy4JJavaError\u001b[0m: An error occurred while calling o423.save.\n: java.lang.RuntimeException: java.io.FileNotFoundException: java.io.FileNotFoundException: HADOOP_HOME and hadoop.home.dir are unset. -see https://wiki.apache.org/hadoop/WindowsProblems\r\n\tat org.apache.hadoop.util.Shell.getWinUtilsPath(Shell.java:735)\r\n\tat org.apache.hadoop.util.Shell.getSetPermissionCommand(Shell.java:270)\r\n\tat org.apache.hadoop.util.Shell.getSetPermissionCommand(Shell.java:286)\r\n\tat org.apache.hadoop.fs.RawLocalFileSystem.setPermission(RawLocalFileSystem.java:978)\r\n\tat org.apache.hadoop.fs.RawLocalFileSystem.mkOneDirWithMode(RawLocalFileSystem.java:660)\r\n\tat org.apache.hadoop.fs.RawLocalFileSystem.mkdirsWithOptionalPermission(RawLocalFileSystem.java:700)\r\n\tat org.apache.hadoop.fs.RawLocalFileSystem.mkdirs(RawLocalFileSystem.java:672)\r\n\tat org.apache.hadoop.fs.RawLocalFileSystem.mkdirsWithOptionalPermission(RawLocalFileSystem.java:699)\r\n\tat org.apache.hadoop.fs.RawLocalFileSystem.mkdirs(RawLocalFileSystem.java:672)\r\n\tat org.apache.hadoop.fs.RawLocalFileSystem.mkdirsWithOptionalPermission(RawLocalFileSystem.java:699)\r\n\tat org.apache.hadoop.fs.RawLocalFileSystem.mkdirs(RawLocalFileSystem.java:672)\r\n\tat org.apache.hadoop.fs.ChecksumFileSystem.mkdirs(ChecksumFileSystem.java:788)\r\n\tat org.apache.hadoop.mapreduce.lib.output.FileOutputCommitter.setupJob(FileOutputCommitter.java:356)\r\n\tat org.apache.spark.internal.io.HadoopMapReduceCommitProtocol.setupJob(HadoopMapReduceCommitProtocol.scala:188)\r\n\tat org.apache.spark.sql.execution.datasources.FileFormatWriter$.write(FileFormatWriter.scala:209)\r\n\tat org.apache.spark.sql.execution.datasources.InsertIntoHadoopFsRelationCommand.run(InsertIntoHadoopFsRelationCommand.scala:186)\r\n\tat org.apache.spark.sql.execution.command.DataWritingCommandExec.sideEffectResult$lzycompute(commands.scala:113)\r\n\tat org.apache.spark.sql.execution.command.DataWritingCommandExec.sideEffectResult(commands.scala:111)\r\n\tat org.apache.spark.sql.execution.command.DataWritingCommandExec.executeCollect(commands.scala:125)\r\n\tat org.apache.spark.sql.execution.QueryExecution$$anonfun$eagerlyExecuteCommands$1.$anonfun$applyOrElse$1(QueryExecution.scala:98)\r\n\tat org.apache.spark.sql.execution.SQLExecution$.$anonfun$withNewExecutionId$6(SQLExecution.scala:109)\r\n\tat org.apache.spark.sql.execution.SQLExecution$.withSQLConfPropagated(SQLExecution.scala:169)\r\n\tat org.apache.spark.sql.execution.SQLExecution$.$anonfun$withNewExecutionId$1(SQLExecution.scala:95)\r\n\tat org.apache.spark.sql.SparkSession.withActive(SparkSession.scala:779)\r\n\tat org.apache.spark.sql.execution.SQLExecution$.withNewExecutionId(SQLExecution.scala:64)\r\n\tat org.apache.spark.sql.execution.QueryExecution$$anonfun$eagerlyExecuteCommands$1.applyOrElse(QueryExecution.scala:98)\r\n\tat org.apache.spark.sql.execution.QueryExecution$$anonfun$eagerlyExecuteCommands$1.applyOrElse(QueryExecution.scala:94)\r\n\tat org.apache.spark.sql.catalyst.trees.TreeNode.$anonfun$transformDownWithPruning$1(TreeNode.scala:584)\r\n\tat org.apache.spark.sql.catalyst.trees.CurrentOrigin$.withOrigin(TreeNode.scala:176)\r\n\tat org.apache.spark.sql.catalyst.trees.TreeNode.transformDownWithPruning(TreeNode.scala:584)\r\n\tat org.apache.spark.sql.catalyst.plans.logical.LogicalPlan.org$apache$spark$sql$catalyst$plans$logical$AnalysisHelper$$super$transformDownWithPruning(LogicalPlan.scala:30)\r\n\tat org.apache.spark.sql.catalyst.plans.logical.AnalysisHelper.transformDownWithPruning(AnalysisHelper.scala:267)\r\n\tat org.apache.spark.sql.catalyst.plans.logical.AnalysisHelper.transformDownWithPruning$(AnalysisHelper.scala:263)\r\n\tat org.apache.spark.sql.catalyst.plans.logical.LogicalPlan.transformDownWithPruning(LogicalPlan.scala:30)\r\n\tat org.apache.spark.sql.catalyst.plans.logical.LogicalPlan.transformDownWithPruning(LogicalPlan.scala:30)\r\n\tat org.apache.spark.sql.catalyst.trees.TreeNode.transformDown(TreeNode.scala:560)\r\n\tat org.apache.spark.sql.execution.QueryExecution.eagerlyExecuteCommands(QueryExecution.scala:94)\r\n\tat org.apache.spark.sql.execution.QueryExecution.commandExecuted$lzycompute(QueryExecution.scala:81)\r\n\tat org.apache.spark.sql.execution.QueryExecution.commandExecuted(QueryExecution.scala:79)\r\n\tat org.apache.spark.sql.execution.QueryExecution.assertCommandExecuted(QueryExecution.scala:116)\r\n\tat org.apache.spark.sql.DataFrameWriter.runCommand(DataFrameWriter.scala:860)\r\n\tat org.apache.spark.sql.DataFrameWriter.saveToV1Source(DataFrameWriter.scala:390)\r\n\tat org.apache.spark.sql.DataFrameWriter.saveInternal(DataFrameWriter.scala:363)\r\n\tat org.apache.spark.sql.DataFrameWriter.save(DataFrameWriter.scala:239)\r\n\tat java.base/jdk.internal.reflect.NativeMethodAccessorImpl.invoke0(Native Method)\r\n\tat java.base/jdk.internal.reflect.NativeMethodAccessorImpl.invoke(NativeMethodAccessorImpl.java:62)\r\n\tat java.base/jdk.internal.reflect.DelegatingMethodAccessorImpl.invoke(DelegatingMethodAccessorImpl.java:43)\r\n\tat java.base/java.lang.reflect.Method.invoke(Method.java:566)\r\n\tat py4j.reflection.MethodInvoker.invoke(MethodInvoker.java:244)\r\n\tat py4j.reflection.ReflectionEngine.invoke(ReflectionEngine.java:357)\r\n\tat py4j.Gateway.invoke(Gateway.java:282)\r\n\tat py4j.commands.AbstractCommand.invokeMethod(AbstractCommand.java:132)\r\n\tat py4j.commands.CallCommand.execute(CallCommand.java:79)\r\n\tat py4j.ClientServerConnection.waitForCommands(ClientServerConnection.java:182)\r\n\tat py4j.ClientServerConnection.run(ClientServerConnection.java:106)\r\n\tat java.base/java.lang.Thread.run(Thread.java:829)\r\nCaused by: java.io.FileNotFoundException: java.io.FileNotFoundException: HADOOP_HOME and hadoop.home.dir are unset. -see https://wiki.apache.org/hadoop/WindowsProblems\r\n\tat org.apache.hadoop.util.Shell.fileNotFoundException(Shell.java:547)\r\n\tat org.apache.hadoop.util.Shell.getHadoopHomeDir(Shell.java:568)\r\n\tat org.apache.hadoop.util.Shell.getQualifiedBin(Shell.java:591)\r\n\tat org.apache.hadoop.util.Shell.<clinit>(Shell.java:688)\r\n\tat org.apache.hadoop.util.StringUtils.<clinit>(StringUtils.java:79)\r\n\tat org.apache.hadoop.conf.Configuration.getTimeDurationHelper(Configuration.java:1907)\r\n\tat org.apache.hadoop.conf.Configuration.getTimeDuration(Configuration.java:1867)\r\n\tat org.apache.hadoop.conf.Configuration.getTimeDuration(Configuration.java:1840)\r\n\tat org.apache.hadoop.util.ShutdownHookManager.getShutdownTimeout(ShutdownHookManager.java:183)\r\n\tat org.apache.hadoop.util.ShutdownHookManager$HookEntry.<init>(ShutdownHookManager.java:207)\r\n\tat org.apache.hadoop.util.ShutdownHookManager.addShutdownHook(ShutdownHookManager.java:304)\r\n\tat org.apache.spark.util.SparkShutdownHookManager.install(ShutdownHookManager.scala:181)\r\n\tat org.apache.spark.util.ShutdownHookManager$.shutdownHooks$lzycompute(ShutdownHookManager.scala:50)\r\n\tat org.apache.spark.util.ShutdownHookManager$.shutdownHooks(ShutdownHookManager.scala:48)\r\n\tat org.apache.spark.util.ShutdownHookManager$.addShutdownHook(ShutdownHookManager.scala:153)\r\n\tat org.apache.spark.util.ShutdownHookManager$.<init>(ShutdownHookManager.scala:58)\r\n\tat org.apache.spark.util.ShutdownHookManager$.<clinit>(ShutdownHookManager.scala)\r\n\tat org.apache.spark.util.Utils$.createTempDir(Utils.scala:343)\r\n\tat org.apache.spark.deploy.SparkSubmit.prepareSubmitEnvironment(SparkSubmit.scala:344)\r\n\tat org.apache.spark.deploy.SparkSubmit.org$apache$spark$deploy$SparkSubmit$$runMain(SparkSubmit.scala:901)\r\n\tat org.apache.spark.deploy.SparkSubmit.doRunMain$1(SparkSubmit.scala:180)\r\n\tat org.apache.spark.deploy.SparkSubmit.submit(SparkSubmit.scala:203)\r\n\tat org.apache.spark.deploy.SparkSubmit.doSubmit(SparkSubmit.scala:90)\r\n\tat org.apache.spark.deploy.SparkSubmit$$anon$2.doSubmit(SparkSubmit.scala:1046)\r\n\tat org.apache.spark.deploy.SparkSubmit$.main(SparkSubmit.scala:1055)\r\n\tat org.apache.spark.deploy.SparkSubmit.main(SparkSubmit.scala)\r\nCaused by: java.io.FileNotFoundException: HADOOP_HOME and hadoop.home.dir are unset.\r\n\tat org.apache.hadoop.util.Shell.checkHadoopHomeInner(Shell.java:467)\r\n\tat org.apache.hadoop.util.Shell.checkHadoopHome(Shell.java:438)\r\n\tat org.apache.hadoop.util.Shell.<clinit>(Shell.java:515)\r\n\t... 22 more\r\n"
     ]
    }
   ],
   "source": [
    "bitcoin_df.write.format('json').save('cleaned-btc.json')"
   ]
  },
  {
   "cell_type": "code",
   "execution_count": null,
   "id": "e8999122",
   "metadata": {},
   "outputs": [],
   "source": []
  }
 ],
 "metadata": {
  "kernelspec": {
   "display_name": "Python 3 (ipykernel)",
   "language": "python",
   "name": "python3"
  },
  "language_info": {
   "codemirror_mode": {
    "name": "ipython",
    "version": 3
   },
   "file_extension": ".py",
   "mimetype": "text/x-python",
   "name": "python",
   "nbconvert_exporter": "python",
   "pygments_lexer": "ipython3",
   "version": "3.9.12"
  }
 },
 "nbformat": 4,
 "nbformat_minor": 5
}
